{
 "cells": [
  {
   "cell_type": "code",
   "execution_count": null,
   "metadata": {},
   "outputs": [],
   "source": [
    "import requests\n",
    "import pandas as pd\n",
    "from PIL import Image\n",
    "import numpy as np\n",
    "import cv2\n",
    "import os\n",
    "from io import BytesIO\n",
    "from dask.distributed import LocalCluster, Client"
   ]
  },
  {
   "cell_type": "code",
   "execution_count": null,
   "metadata": {},
   "outputs": [],
   "source": [
    "def download_and_write_images_to_disk(imgurl):\n",
    "    img = download_images(imgurl)\n",
    "    img_name = \"{0}_{1}\".format(imgurl.split('/')[-2], imgurl.split('/')[-1])\n",
    "    cv2.imwrite(os.path.join(\"all_paintings\", img_name), cv2.cvtColor(img, cv2.COLOR_BGR2RGB))\n",
    "    return 0\n",
    "\n",
    "\n",
    "def download_images(imgurl):\n",
    "    return np.asarray(Image.open(BytesIO(requests.get(imgurl).content)))"
   ]
  },
  {
   "cell_type": "code",
   "execution_count": null,
   "metadata": {},
   "outputs": [],
   "source": [
    "df_paintings = pd.read_csv('all_paintings_with_download_url.csv')\n",
    "img_destination_path = \"all_paintings\"\n",
    "os.makedirs(img_destination_path, exist_ok=True)\n",
    "all_download_urls = df_paintings['full_image_url'].tolist()\n",
    "client = Client()"
   ]
  },
  {
   "cell_type": "code",
   "execution_count": null,
   "metadata": {},
   "outputs": [],
   "source": [
    "client"
   ]
  },
  {
   "cell_type": "code",
   "execution_count": null,
   "metadata": {},
   "outputs": [],
   "source": [
    "futures = client.map(download_and_write_images_to_disk, all_download_urls)\n",
    "results = client.gather(futures)"
   ]
  }
 ],
 "metadata": {
  "kernelspec": {
   "display_name": "Python 3",
   "language": "python",
   "name": "python3"
  },
  "language_info": {
   "codemirror_mode": {
    "name": "ipython",
    "version": 3
   },
   "file_extension": ".py",
   "mimetype": "text/x-python",
   "name": "python",
   "nbconvert_exporter": "python",
   "pygments_lexer": "ipython3",
   "version": "3.6.1"
  }
 },
 "nbformat": 4,
 "nbformat_minor": 4
}
